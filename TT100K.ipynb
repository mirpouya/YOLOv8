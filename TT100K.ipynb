{
  "nbformat": 4,
  "nbformat_minor": 0,
  "metadata": {
    "colab": {
      "provenance": [],
      "authorship_tag": "ABX9TyMfjqRUp9tjgbclblXy0mng",
      "include_colab_link": true
    },
    "kernelspec": {
      "name": "python3",
      "display_name": "Python 3"
    },
    "language_info": {
      "name": "python"
    }
  },
  "cells": [
    {
      "cell_type": "markdown",
      "metadata": {
        "id": "view-in-github",
        "colab_type": "text"
      },
      "source": [
        "<a href=\"https://colab.research.google.com/github/mirpouya/YOLOv8/blob/main/TT100K.ipynb\" target=\"_parent\"><img src=\"https://colab.research.google.com/assets/colab-badge.svg\" alt=\"Open In Colab\"/></a>"
      ]
    },
    {
      "cell_type": "code",
      "execution_count": 2,
      "metadata": {
        "id": "QvdKw37ebRoI"
      },
      "outputs": [],
      "source": [
        "import json\n",
        "import pandas as pd"
      ]
    },
    {
      "cell_type": "code",
      "source": [
        "with open(\"/content/annotations.json\", \"r\") as f:\n",
        "  data = json.load(f)"
      ],
      "metadata": {
        "id": "e1R1REG8d-Wm"
      },
      "execution_count": 4,
      "outputs": []
    },
    {
      "cell_type": "code",
      "source": [
        "type(data)"
      ],
      "metadata": {
        "colab": {
          "base_uri": "https://localhost:8080/"
        },
        "id": "Oyh_w7d7ebth",
        "outputId": "31bdc11f-e45d-4df3-cf5c-fbcd62a819d7"
      },
      "execution_count": 8,
      "outputs": [
        {
          "output_type": "execute_result",
          "data": {
            "text/plain": [
              "dict"
            ]
          },
          "metadata": {},
          "execution_count": 8
        }
      ]
    },
    {
      "cell_type": "code",
      "source": [
        "list(data.keys())"
      ],
      "metadata": {
        "colab": {
          "base_uri": "https://localhost:8080/"
        },
        "id": "fbpnzlL-eeF3",
        "outputId": "5048e8f9-d939-4264-dca4-d491ce388689"
      },
      "execution_count": 11,
      "outputs": [
        {
          "output_type": "execute_result",
          "data": {
            "text/plain": [
              "['imgs', 'types']"
            ]
          },
          "metadata": {},
          "execution_count": 11
        }
      ]
    },
    {
      "cell_type": "code",
      "source": [
        "data.items()"
      ],
      "metadata": {
        "id": "TBuhZXlH6D9-"
      },
      "execution_count": null,
      "outputs": []
    },
    {
      "cell_type": "code",
      "source": [
        "list(data.items())"
      ],
      "metadata": {
        "id": "VWKH2rt16Lnm"
      },
      "execution_count": null,
      "outputs": []
    },
    {
      "cell_type": "code",
      "source": [
        "len(list(data.items()))"
      ],
      "metadata": {
        "id": "nTBgqKYt6Qel",
        "outputId": "cb7971a3-eecb-467f-9866-115ea6ed75c3",
        "colab": {
          "base_uri": "https://localhost:8080/"
        }
      },
      "execution_count": 52,
      "outputs": [
        {
          "output_type": "execute_result",
          "data": {
            "text/plain": [
              "2"
            ]
          },
          "metadata": {},
          "execution_count": 52
        }
      ]
    },
    {
      "cell_type": "code",
      "source": [
        "list(data.items())[0]"
      ],
      "metadata": {
        "id": "Y7yG22aY6br1"
      },
      "execution_count": null,
      "outputs": []
    },
    {
      "cell_type": "code",
      "source": [
        "list(data.items())[1]"
      ],
      "metadata": {
        "id": "3Q4FYB9N6gkd"
      },
      "execution_count": null,
      "outputs": []
    },
    {
      "cell_type": "code",
      "source": [
        "len(list(data.items())[1][1])"
      ],
      "metadata": {
        "id": "MGjaMfiS7C7l",
        "outputId": "060e3b34-526e-4b87-b0c8-4dd93e54b1b1",
        "colab": {
          "base_uri": "https://localhost:8080/"
        }
      },
      "execution_count": 60,
      "outputs": [
        {
          "output_type": "execute_result",
          "data": {
            "text/plain": [
              "221"
            ]
          },
          "metadata": {},
          "execution_count": 60
        }
      ]
    },
    {
      "cell_type": "code",
      "source": [
        "type(list(data.items())[0])"
      ],
      "metadata": {
        "id": "tZu84GKT4uGW",
        "outputId": "a40ba938-58f1-4df8-addd-aae627fc0d80",
        "colab": {
          "base_uri": "https://localhost:8080/"
        }
      },
      "execution_count": 45,
      "outputs": [
        {
          "output_type": "execute_result",
          "data": {
            "text/plain": [
              "tuple"
            ]
          },
          "metadata": {},
          "execution_count": 45
        }
      ]
    },
    {
      "cell_type": "code",
      "source": [
        "len(list(data.items())[0])"
      ],
      "metadata": {
        "id": "njt6rFTY490l",
        "outputId": "60c7a0c7-0f05-4d2d-b4f2-cb300b443069",
        "colab": {
          "base_uri": "https://localhost:8080/"
        }
      },
      "execution_count": 46,
      "outputs": [
        {
          "output_type": "execute_result",
          "data": {
            "text/plain": [
              "2"
            ]
          },
          "metadata": {},
          "execution_count": 46
        }
      ]
    },
    {
      "cell_type": "code",
      "source": [
        "list(data.items())[0][0]"
      ],
      "metadata": {
        "id": "Ck3B_twE5Bmm",
        "outputId": "d26250bc-6d18-4b7c-e62c-14c2494ce006",
        "colab": {
          "base_uri": "https://localhost:8080/",
          "height": 36
        }
      },
      "execution_count": 47,
      "outputs": [
        {
          "output_type": "execute_result",
          "data": {
            "text/plain": [
              "'imgs'"
            ],
            "application/vnd.google.colaboratory.intrinsic+json": {
              "type": "string"
            }
          },
          "metadata": {},
          "execution_count": 47
        }
      ]
    },
    {
      "cell_type": "code",
      "source": [
        "list(data.items())[0][1]"
      ],
      "metadata": {
        "id": "G7SKgSih5E-V"
      },
      "execution_count": null,
      "outputs": []
    },
    {
      "cell_type": "code",
      "source": [
        "list(data.items())[0][1]['32773']"
      ],
      "metadata": {
        "colab": {
          "base_uri": "https://localhost:8080/"
        },
        "id": "PufuUVVgiCE0",
        "outputId": "92adebf7-4888-47b0-eb8f-5fd793656942"
      },
      "execution_count": 40,
      "outputs": [
        {
          "output_type": "execute_result",
          "data": {
            "text/plain": [
              "{'path': 'test/32773.jpg',\n",
              " 'objects': [{'category': 'ph2',\n",
              "   'bbox': {'xmin': 924.0,\n",
              "    'ymin': 1132.0,\n",
              "    'ymax': 1177.3333,\n",
              "    'xmax': 966.6667},\n",
              "   'ellipse_org': [[942.725, 1132.14],\n",
              "    [926.19, 1144.18],\n",
              "    [922.884, 1156.61],\n",
              "    [931.746, 1173.02],\n",
              "    [949.471, 1174.07],\n",
              "    [959.921, 1169.58],\n",
              "    [962.037, 1142.72]],\n",
              "   'ellipse': [[943.6439208984375, 1154.060791015625],\n",
              "    [41.572391510009766, 45.09551239013672],\n",
              "    36.37429428100586]},\n",
              "  {'category': 'p11',\n",
              "   'bbox': {'xmin': 970.667,\n",
              "    'ymin': 1128.0,\n",
              "    'ymax': 1170.6667,\n",
              "    'xmax': 1013.3333},\n",
              "   'ellipse_org': [[997.385, 1130.51],\n",
              "    [977.584, 1137.36],\n",
              "    [974.222, 1161.52],\n",
              "    [990.286, 1170.61],\n",
              "    [1012.7, 1157.41]],\n",
              "   'ellipse': [[992.5154418945312, 1149.9034423828125],\n",
              "    [39.68983840942383, 43.2476692199707],\n",
              "    66.92964172363281]},\n",
              "  {'category': 'pl5',\n",
              "   'bbox': {'xmin': 1146.67,\n",
              "    'ymin': 1108.0,\n",
              "    'ymax': 1150.6667,\n",
              "    'xmax': 1190.6733000000002},\n",
              "   'ellipse_org': [[1170.5, 1110.58],\n",
              "    [1151.81, 1121.04],\n",
              "    [1155.43, 1148.58],\n",
              "    [1176.6, 1150.32],\n",
              "    [1190.93, 1125.4]],\n",
              "   'ellipse': [[1168.935546875, 1130.9200439453125],\n",
              "    [40.40793991088867, 44.34447479248047],\n",
              "    53.05292892456055]}],\n",
              " 'id': 32773}"
            ]
          },
          "metadata": {},
          "execution_count": 40
        }
      ]
    },
    {
      "cell_type": "code",
      "source": [
        "list(data.items())[1]"
      ],
      "metadata": {
        "id": "oLz72xSCiCCU"
      },
      "execution_count": null,
      "outputs": []
    },
    {
      "cell_type": "code",
      "source": [
        "temp = list(data.items())[0][1]['32773']"
      ],
      "metadata": {
        "id": "LZzRJr_beymb"
      },
      "execution_count": 62,
      "outputs": []
    },
    {
      "cell_type": "code",
      "source": [
        "temp"
      ],
      "metadata": {
        "id": "S4r5BOWEAmri",
        "outputId": "35a9c1d6-be49-4625-f31f-7cd8e30c4c3e",
        "colab": {
          "base_uri": "https://localhost:8080/"
        }
      },
      "execution_count": 66,
      "outputs": [
        {
          "output_type": "execute_result",
          "data": {
            "text/plain": [
              "{'path': 'test/32773.jpg',\n",
              " 'objects': [{'category': 'ph2',\n",
              "   'bbox': {'xmin': 924.0,\n",
              "    'ymin': 1132.0,\n",
              "    'ymax': 1177.3333,\n",
              "    'xmax': 966.6667},\n",
              "   'ellipse_org': [[942.725, 1132.14],\n",
              "    [926.19, 1144.18],\n",
              "    [922.884, 1156.61],\n",
              "    [931.746, 1173.02],\n",
              "    [949.471, 1174.07],\n",
              "    [959.921, 1169.58],\n",
              "    [962.037, 1142.72]],\n",
              "   'ellipse': [[943.6439208984375, 1154.060791015625],\n",
              "    [41.572391510009766, 45.09551239013672],\n",
              "    36.37429428100586]},\n",
              "  {'category': 'p11',\n",
              "   'bbox': {'xmin': 970.667,\n",
              "    'ymin': 1128.0,\n",
              "    'ymax': 1170.6667,\n",
              "    'xmax': 1013.3333},\n",
              "   'ellipse_org': [[997.385, 1130.51],\n",
              "    [977.584, 1137.36],\n",
              "    [974.222, 1161.52],\n",
              "    [990.286, 1170.61],\n",
              "    [1012.7, 1157.41]],\n",
              "   'ellipse': [[992.5154418945312, 1149.9034423828125],\n",
              "    [39.68983840942383, 43.2476692199707],\n",
              "    66.92964172363281]},\n",
              "  {'category': 'pl5',\n",
              "   'bbox': {'xmin': 1146.67,\n",
              "    'ymin': 1108.0,\n",
              "    'ymax': 1150.6667,\n",
              "    'xmax': 1190.6733000000002},\n",
              "   'ellipse_org': [[1170.5, 1110.58],\n",
              "    [1151.81, 1121.04],\n",
              "    [1155.43, 1148.58],\n",
              "    [1176.6, 1150.32],\n",
              "    [1190.93, 1125.4]],\n",
              "   'ellipse': [[1168.935546875, 1130.9200439453125],\n",
              "    [40.40793991088867, 44.34447479248047],\n",
              "    53.05292892456055]}],\n",
              " 'id': 32773}"
            ]
          },
          "metadata": {},
          "execution_count": 66
        }
      ]
    },
    {
      "cell_type": "code",
      "source": [
        "temp[\"objects\"]"
      ],
      "metadata": {
        "id": "ZawIH5X204Yo",
        "outputId": "d1ac409a-526f-4e84-de2e-23ed8974478a",
        "colab": {
          "base_uri": "https://localhost:8080/"
        }
      },
      "execution_count": 67,
      "outputs": [
        {
          "output_type": "execute_result",
          "data": {
            "text/plain": [
              "[{'category': 'ph2',\n",
              "  'bbox': {'xmin': 924.0, 'ymin': 1132.0, 'ymax': 1177.3333, 'xmax': 966.6667},\n",
              "  'ellipse_org': [[942.725, 1132.14],\n",
              "   [926.19, 1144.18],\n",
              "   [922.884, 1156.61],\n",
              "   [931.746, 1173.02],\n",
              "   [949.471, 1174.07],\n",
              "   [959.921, 1169.58],\n",
              "   [962.037, 1142.72]],\n",
              "  'ellipse': [[943.6439208984375, 1154.060791015625],\n",
              "   [41.572391510009766, 45.09551239013672],\n",
              "   36.37429428100586]},\n",
              " {'category': 'p11',\n",
              "  'bbox': {'xmin': 970.667,\n",
              "   'ymin': 1128.0,\n",
              "   'ymax': 1170.6667,\n",
              "   'xmax': 1013.3333},\n",
              "  'ellipse_org': [[997.385, 1130.51],\n",
              "   [977.584, 1137.36],\n",
              "   [974.222, 1161.52],\n",
              "   [990.286, 1170.61],\n",
              "   [1012.7, 1157.41]],\n",
              "  'ellipse': [[992.5154418945312, 1149.9034423828125],\n",
              "   [39.68983840942383, 43.2476692199707],\n",
              "   66.92964172363281]},\n",
              " {'category': 'pl5',\n",
              "  'bbox': {'xmin': 1146.67,\n",
              "   'ymin': 1108.0,\n",
              "   'ymax': 1150.6667,\n",
              "   'xmax': 1190.6733000000002},\n",
              "  'ellipse_org': [[1170.5, 1110.58],\n",
              "   [1151.81, 1121.04],\n",
              "   [1155.43, 1148.58],\n",
              "   [1176.6, 1150.32],\n",
              "   [1190.93, 1125.4]],\n",
              "  'ellipse': [[1168.935546875, 1130.9200439453125],\n",
              "   [40.40793991088867, 44.34447479248047],\n",
              "   53.05292892456055]}]"
            ]
          },
          "metadata": {},
          "execution_count": 67
        }
      ]
    },
    {
      "cell_type": "code",
      "source": [
        "keys = data.keys()\n",
        "keys"
      ],
      "metadata": {
        "id": "ITzkn-NS1j9L",
        "outputId": "6b35d7ce-e308-4e6a-b250-4234c15eb13e",
        "colab": {
          "base_uri": "https://localhost:8080/"
        }
      },
      "execution_count": 68,
      "outputs": [
        {
          "output_type": "execute_result",
          "data": {
            "text/plain": [
              "dict_keys(['imgs', 'types'])"
            ]
          },
          "metadata": {},
          "execution_count": 68
        }
      ]
    },
    {
      "cell_type": "code",
      "source": [],
      "metadata": {
        "id": "l08UcXbfJH2O"
      },
      "execution_count": null,
      "outputs": []
    }
  ]
}